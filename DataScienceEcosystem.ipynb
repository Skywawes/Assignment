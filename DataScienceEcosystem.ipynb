{
 "cells": [
  {
   "cell_type": "markdown",
   "id": "8a654cd7-0cee-470a-bc6e-e1808dff368b",
   "metadata": {},
   "source": [
    "# Data Science Tools and Ecosystem"
   ]
  },
  {
   "cell_type": "markdown",
   "id": "47721cda-5452-478b-921b-9f30b5f450b8",
   "metadata": {},
   "source": [
    "### In this notebook, Data Science Tools and Ecosystem are summarized."
   ]
  },
  {
   "cell_type": "markdown",
   "id": "5b8470fb-9887-4ac3-a4f3-687b9952dad4",
   "metadata": {},
   "source": [
    "#### **Objectives:**\n",
    "\n",
    "- List libraries used for data science\n",
    "- List open source tools used for data science\n",
    "- perform arithmetic calculations\n",
    "\n"
   ]
  },
  {
   "cell_type": "markdown",
   "id": "24a1866f-9dc7-4cac-b966-75727f112b3a",
   "metadata": {},
   "source": [
    "Some of the commonly used libraries used by Data Scientists include:\n",
    "1. pandas\n",
    "2. numpy\n",
    "3. matplotlib\n",
    "4. tensorflow\n",
    " "
   ]
  },
  {
   "cell_type": "markdown",
   "id": "ffe5417e-62b0-4fe0-9703-421506393189",
   "metadata": {},
   "source": [
    "|Data Science Tools|\n",
    "|---|\n",
    "|Jupyterlab|\n",
    "|Visual Studio Code|\n",
    "|GitHub|"
   ]
  },
  {
   "cell_type": "markdown",
   "id": "d4a635c2-001e-44f3-8b60-519150559b70",
   "metadata": {},
   "source": [
    "### Below are a few examples of evaluating arithmetic expressions in Python\n",
    "-------"
   ]
  },
  {
   "cell_type": "code",
   "execution_count": 1,
   "id": "eb149eb7-ed58-4fbe-acef-b035918b439d",
   "metadata": {
    "tags": []
   },
   "outputs": [
    {
     "data": {
      "text/plain": [
       "17"
      ]
     },
     "execution_count": 1,
     "metadata": {},
     "output_type": "execute_result"
    }
   ],
   "source": [
    "# This a simple arithmetic expression to mutiply then add integers \n",
    "(3*4)+5"
   ]
  },
  {
   "cell_type": "code",
   "execution_count": 2,
   "id": "2a232549-999a-4bf1-8d50-8d2bf72d5e72",
   "metadata": {
    "tags": []
   },
   "outputs": [
    {
     "data": {
      "text/plain": [
       "3.3333333333333335"
      ]
     },
     "execution_count": 2,
     "metadata": {},
     "output_type": "execute_result"
    }
   ],
   "source": [
    "# This will convert 200 minutes to hours by diving by 60\n",
    "200/60\n"
   ]
  },
  {
   "cell_type": "markdown",
   "id": "caf00a15-7301-411b-bb95-bdfae7f652a8",
   "metadata": {},
   "source": [
    "## Author\n",
    "Marion Prifti"
   ]
  },
  {
   "cell_type": "code",
   "execution_count": null,
   "id": "71ae9c25-eec3-404b-bc04-7cc0a503ce59",
   "metadata": {},
   "outputs": [],
   "source": []
  }
 ],
 "metadata": {
  "kernelspec": {
   "display_name": "Python 3 (ipykernel)",
   "language": "python",
   "name": "python3"
  },
  "language_info": {
   "codemirror_mode": {
    "name": "ipython",
    "version": 3
   },
   "file_extension": ".py",
   "mimetype": "text/x-python",
   "name": "python",
   "nbconvert_exporter": "python",
   "pygments_lexer": "ipython3",
   "version": "3.11.5"
  }
 },
 "nbformat": 4,
 "nbformat_minor": 5
}
